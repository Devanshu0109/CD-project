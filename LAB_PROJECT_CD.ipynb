{
  "nbformat": 4,
  "nbformat_minor": 0,
  "metadata": {
    "colab": {
      "provenance": []
    },
    "kernelspec": {
      "name": "python3",
      "display_name": "Python 3"
    },
    "language_info": {
      "name": "python"
    }
  },
  "cells": [
    {
      "cell_type": "code",
      "execution_count": null,
      "metadata": {
        "id": "p3wpe3hiVkbp"
      },
      "outputs": [],
      "source": []
    },
    {
      "cell_type": "markdown",
      "source": [
        "# **LAB PROJECT CD**\n",
        "# **NAMES:-**\n",
        "# **GUNJAN RATHI**\n",
        "# **PRANJAL BAJAJ**\n",
        "# **DEVANSHU NARNOLIYA**\n",
        "# **ROLL NO:-**\n",
        "# **5,14,36**\n",
        "# **TOPIC:-Finding Loop invariant Computation**"
      ],
      "metadata": {
        "id": "h2p2mN7PWgah"
      }
    },
    {
      "cell_type": "code",
      "source": [
        "# Detailed loop-invariant code detection with hoisting\n",
        "\n",
        "def is_invariant(instr, loop_vars, known_invariants):\n",
        "    \"\"\"Check if an instruction is loop-invariant.\"\"\"\n",
        "    var, expr = instr.split(' = ')\n",
        "    tokens = expr.split()\n",
        "\n",
        "    # If any token is a loop variable and not already invariant, it's not invariant\n",
        "    if any(token in loop_vars and token not in known_invariants for token in tokens):\n",
        "        return False\n",
        "    return True\n",
        "\n",
        "def find_invariant(loop_body, loop_vars):\n",
        "    \"\"\"Find and extract loop-invariant code.\"\"\"\n",
        "    invariant_code = []\n",
        "    remaining_code = []\n",
        "    known_invariants = set()\n",
        "\n",
        "    for instr in loop_body:\n",
        "        if is_invariant(instr, loop_vars, known_invariants):\n",
        "            invariant_code.append(instr)\n",
        "            var, _ = instr.split(' = ')\n",
        "            known_invariants.add(var)\n",
        "        else:\n",
        "            remaining_code.append(instr)\n",
        "\n",
        "    return invariant_code, remaining_code\n",
        "\n",
        "def optimize_loop(loop_body, loop_vars):\n",
        "    \"\"\"Move loop-invariant code outside the loop.\"\"\"\n",
        "    invariant_code, optimized_body = find_invariant(loop_body, loop_vars)\n",
        "    print(\"Loop-invariant instructions:\", invariant_code)\n",
        "    print(\"Optimized loop body:\", optimized_body)\n",
        "    return invariant_code, optimized_body\n",
        "\n",
        "# Example loop\n",
        "loop_body = [\n",
        "    \"t1 = a + b\",  # Invariant if a and b are constant\n",
        "    \"i = i + 1\",   # Not invariant (modifies loop variable i)\n",
        "    \"t2 = t1 * c\"  # Invariant if t1 is invariant and c is constant\n",
        "]\n",
        "\n",
        "loop_vars = {\"i\"}  # Variables modified in loop\n",
        "\n",
        "# Optimize loop\n",
        "invariant_code, optimized_body = optimize_loop(loop_body, loop_vars)\n"
      ],
      "metadata": {
        "colab": {
          "base_uri": "https://localhost:8080/"
        },
        "id": "WeXx1tOzXNU-",
        "outputId": "a1f791dc-a016-48ab-dc5c-9436030a7ff0"
      },
      "execution_count": 1,
      "outputs": [
        {
          "output_type": "stream",
          "name": "stdout",
          "text": [
            "Loop-invariant instructions: ['t1 = a + b', 't2 = t1 * c']\n",
            "Optimized loop body: ['i = i + 1']\n"
          ]
        }
      ]
    },
    {
      "cell_type": "code",
      "source": [],
      "metadata": {
        "id": "ROG8B1MCXOXs"
      },
      "execution_count": null,
      "outputs": []
    }
  ]
}